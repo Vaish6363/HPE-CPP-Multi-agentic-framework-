{
 "cells": [
  {
   "cell_type": "code",
   "execution_count": null,
   "id": "6fe0de9c-639b-4a8b-a240-c89517be04da",
   "metadata": {},
   "outputs": [],
   "source": [
    "!pip install pyautogen\n",
    "\n",
    "from autogen import AssistantAgent, UserProxyAgent\n",
    "import os\n",
    "\n",
    "API_KEY = os.getenv(\"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\")  # Secure usage\n",
    "\n",
    "base_config = {\n",
    "    \"base_url\": \"https://openrouter.ai/api/v1\",\n",
    "    \"api_key\": API_KEY,\n",
    "    \"model\": \"deepseek/deepseek-r1-0528-qwen3-8b:free\",\n",
    "    \"api_type\": \"openai\",\n",
    "}\n",
    "\n",
    "user = UserProxyAgent(name=\"Student\", human_input_mode=\"TERMINATE\")\n",
    "\n",
    "academic_agent = AssistantAgent(name=\"AcademicAssistant\", llm_config=base_config, system_message=\"You help with grading, tutoring, and class scheduling.\")\n",
    "career_agent = AssistantAgent(name=\"CareerCounselor\", llm_config=base_config, system_message=\"You guide on careers, internships, and courses.\")\n",
    "welfare_agent = AssistantAgent(name=\"WelfareAI\", llm_config=base_config, system_message=\"You track mental health and suggest self-care strategies.\")\n",
    "performance_agent = AssistantAgent(name=\"PerformanceAnalyzer\", llm_config=base_config, system_message=\"You detect performance risks and dropout possibilities.\")\n",
    "moderator_agent = AssistantAgent(name=\"Moderator\", llm_config=base_config, system_message=\"\"\"You are a moderator. After reviewing a chat, respond with one of:\n",
    "- HUMAN NEEDED\n",
    "- NO HUMAN NEEDED\"\"\")\n"
   ]
  },
  {
   "cell_type": "code",
   "execution_count": null,
   "id": "cc918f26-bb34-4db3-bb80-f329d5cea98a",
   "metadata": {},
   "outputs": [],
   "source": []
  }
 ],
 "metadata": {
  "kernelspec": {
   "display_name": "Python [conda env:base] *",
   "language": "python",
   "name": "conda-base-py"
  },
  "language_info": {
   "codemirror_mode": {
    "name": "ipython",
    "version": 3
   },
   "file_extension": ".py",
   "mimetype": "text/x-python",
   "name": "python",
   "nbconvert_exporter": "python",
   "pygments_lexer": "ipython3",
   "version": "3.11.7"
  }
 },
 "nbformat": 4,
 "nbformat_minor": 5
}
